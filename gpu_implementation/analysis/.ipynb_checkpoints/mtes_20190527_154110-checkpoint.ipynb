{
 "cells": [
  {
   "cell_type": "code",
   "execution_count": null,
   "metadata": {
    "hide_input": true,
    "inputHidden": true
   },
   "outputs": [
    {
     "data": {
      "text/html": [
       "<span style=\"color:red; font-family:Helvetica Neue, Helvetica, Arial, sans-serif; font-size:2em;\">An Exception was encountered at 'In [7]'.</span>"
      ]
     },
     "metadata": {},
     "output_type": "display_data"
    }
   ],
   "source": [
    "%%html\n",
    "<span style=\"color:red; font-family:Helvetica Neue, Helvetica, Arial, sans-serif; font-size:2em;\">An Exception was encountered at 'In [7]'.</span>"
   ]
  },
  {
   "cell_type": "code",
   "execution_count": 1,
   "metadata": {
    "papermill": {
     "duration": 1.800069,
     "end_time": "2019-08-06T22:00:33.945074",
     "exception": false,
     "start_time": "2019-08-06T22:00:32.145005",
     "status": "completed"
    },
    "tags": []
   },
   "outputs": [],
   "source": [
    "import sys\n",
    "import pickle\n",
    "from pathlib import Path\n",
    "gpu_implementation_path = '/home/mt/repos/research.mtne/gpu_implementation'\n",
    "if gpu_implementation_path not in sys.path:\n",
    "    sys.path.append(gpu_implementation_path)\n",
    "import re\n",
    "import numpy as np\n",
    "import pandas as pd\n",
    "import seaborn as sns\n",
    "%matplotlib inline\n",
    "from esmt import TrainingState\n",
    "\n",
    "main_log_dir = Path(gpu_implementation_path) / \"logs\""
   ]
  },
  {
   "cell_type": "code",
   "execution_count": 2,
   "metadata": {
    "papermill": {
     "duration": 0.015798,
     "end_time": "2019-08-06T22:00:33.982411",
     "exception": false,
     "start_time": "2019-08-06T22:00:33.966613",
     "status": "completed"
    },
    "tags": [
     "parameters"
    ]
   },
   "outputs": [],
   "source": [
    "log_session = \"mtes_20190630_114103\""
   ]
  },
  {
   "cell_type": "code",
   "execution_count": 3,
   "metadata": {
    "papermill": {
     "duration": 0.013555,
     "end_time": "2019-08-06T22:00:34.004461",
     "exception": false,
     "start_time": "2019-08-06T22:00:33.990906",
     "status": "completed"
    },
    "tags": [
     "injected-parameters"
    ]
   },
   "outputs": [],
   "source": [
    "# Parameters\n",
    "log_session = \"mtes_20190527_154110\"\n"
   ]
  },
  {
   "cell_type": "code",
   "execution_count": 4,
   "metadata": {
    "papermill": {
     "duration": 0.909166,
     "end_time": "2019-08-06T22:00:34.922800",
     "exception": false,
     "start_time": "2019-08-06T22:00:34.013634",
     "status": "completed"
    },
    "tags": []
   },
   "outputs": [
    {
     "name": "stdout",
     "output_type": "stream",
     "text": [
      "Last iteration: 26\n"
     ]
    }
   ],
   "source": [
    "# log_session = \"salvatore-0to70\"\n",
    "logdir = main_log_dir / log_session\n",
    "iterlogfiles = {}\n",
    "\n",
    "iterations = []\n",
    "for i in logdir.iterdir():\n",
    "    f = i.name\n",
    "    if not f.endswith('-game1_elite.pkl'):\n",
    "        continue\n",
    "    itr = re.sub('^0*', '', f.split('-')[0])\n",
    "    if itr == '':\n",
    "        itr = 0\n",
    "    else:\n",
    "        itr = int(itr)\n",
    "    iterations.append(itr)\n",
    "iterations.sort()\n",
    "last_iteration = iterations[-1]\n",
    "\n",
    "def get_iter_log(iteration, pickle_file):\n",
    "    filename = logdir / \"{:04d}-{}.pkl\".format(iteration, pickle_file)\n",
    "    with open(str(filename), 'rb') as f:\n",
    "        return pickle.load(f)\n",
    "\n",
    "def get_iter_logs(iteration):\n",
    "    df = {}\n",
    "    loadfiles = ['state', 'offsprings',\n",
    "                 'game0_elite', 'game0_rewards', 'game0_episode_lengths',\n",
    "                 'game1_elite', 'game1_rewards', 'game1_episode_lengths'\n",
    "                ]\n",
    "    for loadfile in loadfiles:\n",
    "        df[loadfile] = get_iter_log(iteration, loadfile)\n",
    "    return df\n",
    "\n",
    "def unit_vector(vector):\n",
    "    \"\"\" Returns the unit vector of the vector.  \"\"\"\n",
    "    return vector / np.linalg.norm(vector)\n",
    "\n",
    "def angle_between(v1, v2):\n",
    "    \"\"\" Returns the angle in radians between vectors 'v1' and 'v2'::\n",
    "\n",
    "            >>> angle_between((1, 0, 0), (0, 1, 0))\n",
    "            1.5707963267948966\n",
    "            >>> angle_between((1, 0, 0), (1, 0, 0))\n",
    "            0.0\n",
    "            >>> angle_between((1, 0, 0), (-1, 0, 0))\n",
    "            3.141592653589793\n",
    "    \"\"\"\n",
    "    v1_u = unit_vector(v1)\n",
    "    v2_u = unit_vector(v2)\n",
    "    return np.rad2deg(np.arccos(np.clip(np.dot(v1_u, v2_u), -1.0, 1.0)))\n",
    "\n",
    "def compute_ranks(x):\n",
    "    \"\"\"\n",
    "    Returns ranks in [0, len(x))\n",
    "    Note: This is different from scipy.stats.rankdata, which returns ranks in [1, len(x)].\n",
    "    \"\"\"\n",
    "    assert x.ndim == 1\n",
    "    ranks = np.empty(len(x), dtype=int)\n",
    "    ranks[x.argsort()] = np.arange(len(x))\n",
    "    return ranks\n",
    "\n",
    "def compute_centered_ranks(x):\n",
    "    y = compute_ranks(x.ravel()).reshape(x.shape).astype(np.float32)\n",
    "    y /= (x.size - 1)\n",
    "    y -= .5\n",
    "    return y\n",
    "\n",
    "rewards_df = pd.DataFrame(columns=['game0_rewards', 'game1_rewards', 'game0_elite', 'game1_elite', 'iteration'])\n",
    "for i in iterations:\n",
    "#     print(\"Loading iteration {}\".format(i))\n",
    "    df = {\n",
    "        'game0_rewards': [np.mean(get_iter_log(i, 'game0_rewards'))],\n",
    "        'game1_rewards': [np.mean(get_iter_log(i, 'game1_rewards'))],\n",
    "        'game0_elite': [np.mean(get_iter_log(i, 'game0_elite'))],\n",
    "        'game1_elite': [np.mean(get_iter_log(i, 'game1_elite'))]\n",
    "    }\n",
    "    df['iteration'] = [i]\n",
    "    rdf = pd.DataFrame.from_dict(df)\n",
    "    rewards_df = pd.concat([rewards_df, rdf], sort=True)\n",
    "print(\"Last iteration: {}\".format(max(iterations)))"
   ]
  },
  {
   "cell_type": "code",
   "execution_count": 5,
   "metadata": {
    "papermill": {
     "duration": 0.020984,
     "end_time": "2019-08-06T22:00:34.957776",
     "exception": false,
     "start_time": "2019-08-06T22:00:34.936792",
     "status": "completed"
    },
    "tags": []
   },
   "outputs": [
    {
     "name": "stdout",
     "output_type": "stream",
     "text": [
      "05/27/2019 03:41:10 PM {\n",
      "    \"episode_cutoff_mode\": 5000,\n",
      "    \"games\": [\n",
      "        \"zaxxon\",\n",
      "        \"riverraid\"\n",
      "    ],\n",
      "    \"iterations\": 200,\n",
      "    \"l2coeff\": 0.005,\n",
      "    \"learn_option\": \"concat_rewards\",\n",
      "    \"learn_options\": [\n",
      "        \"concat_rewards\",\n",
      "        \"alternate_games\",\n",
      "        \"equal_prob_random_choice\"\n",
      "    ],\n",
      "    \"model\": \"ModelVirtualBN\",\n",
      "    \"mutation_power\": 0.02,\n",
      "    \"num_test_episodes\": 200,\n",
      "    \"num_validation_episodes\": 30,\n",
      "    \"optimizer\": {\n",
      "        \"args\": {\n",
      "            \"stepsize\": 0.01\n",
      "        },\n",
      "        \"type\": \"adam\"\n",
      "    },\n",
      "    \"population_size\": 500,\n",
      "    \"population_size_comment\": \"Must be divisible by 4\",\n",
      "    \"return_proc_mode\": \"centered_rank\",\n",
      "    \"timesteps\": 5000000000.0\n",
      "}\n",
      "05/27/2019 03:41:10 PM\n"
     ]
    }
   ],
   "source": [
    "def get_config_body(logdir):\n",
    "    with open(str(logdir / \"log.txt\"), \"r\") as f:\n",
    "        data = f.read()\n",
    "    config_data = data.find(\" Logging to: \")\n",
    "    return data[0:config_data]\n",
    "print(get_config_body(logdir))"
   ]
  },
  {
   "cell_type": "code",
   "execution_count": 6,
   "metadata": {
    "papermill": {
     "duration": 0.559742,
     "end_time": "2019-08-06T22:00:35.531461",
     "exception": false,
     "start_time": "2019-08-06T22:00:34.971719",
     "status": "completed"
    },
    "tags": []
   },
   "outputs": [
    {
     "data": {
      "text/plain": [
       "[Text(0, 0.5, 'Game score')]"
      ]
     },
     "execution_count": 6,
     "metadata": {},
     "output_type": "execute_result"
    },
    {
     "data": {
      "image/png": "[encoded data removed]",
      "text/plain": [
       "<Figure size 1440x720 with 1 Axes>"
      ]
     },
     "metadata": {},
     "output_type": "display_data"
    }
   ],
   "source": [
    "sns.set(rc={'figure.figsize':(20, 10)})\n",
    "rewards_df.set_index('iteration').plot().set(ylabel='Game score')"
   ]
  },
  {
   "cell_type": "code",
   "execution_count": 7,
   "metadata": {
    "papermill": {
     "duration": 0.195123,
     "end_time": "2019-08-06T22:00:35.737954",
     "exception": true,
     "start_time": "2019-08-06T22:00:35.542831",
     "status": "failed"
    },
    "tags": []
   },
   "outputs": [
    {
     "ename": "FileNotFoundError",
     "evalue": "[Errno 2] No such file or directory: '/home/mt/repos/research.mtne/gpu_implementation/logs/mtes_20190527_154110/0000-game0_episode_lengths.pkl'",
     "output_type": "error",
     "traceback": [
      "\u001b[0;31m---------------------------------------------------------------------------\u001b[0m",
      "\u001b[0;31mFileNotFoundError\u001b[0m                         Traceback (most recent call last)",
      "\u001b[0;32m<ipython-input-7-f7ca44c6f952>\u001b[0m in \u001b[0;36m<module>\u001b[0;34m\u001b[0m\n\u001b[1;32m      8\u001b[0m \u001b[0;31m#     print(\"Loading iteration {}\".format(i))\u001b[0m\u001b[0;34m\u001b[0m\u001b[0;34m\u001b[0m\u001b[0m\n\u001b[1;32m      9\u001b[0m     df = {\n\u001b[0;32m---> 10\u001b[0;31m         \u001b[0;34m'game0_episode_lengths'\u001b[0m\u001b[0;34m:\u001b[0m \u001b[0mnp\u001b[0m\u001b[0;34m.\u001b[0m\u001b[0marray\u001b[0m\u001b[0;34m(\u001b[0m\u001b[0;34m[\u001b[0m\u001b[0ml\u001b[0m \u001b[0;32mfor\u001b[0m \u001b[0ml\u001b[0m \u001b[0;32min\u001b[0m \u001b[0mget_iter_log\u001b[0m\u001b[0;34m(\u001b[0m\u001b[0mi\u001b[0m\u001b[0;34m,\u001b[0m \u001b[0;34m'game0_episode_lengths'\u001b[0m\u001b[0;34m)\u001b[0m\u001b[0;34m]\u001b[0m\u001b[0;34m)\u001b[0m\u001b[0;34m.\u001b[0m\u001b[0mflatten\u001b[0m\u001b[0;34m(\u001b[0m\u001b[0;34m)\u001b[0m\u001b[0;34m,\u001b[0m\u001b[0;34m\u001b[0m\u001b[0m\n\u001b[0m\u001b[1;32m     11\u001b[0m         \u001b[0;34m'game1_episode_lengths'\u001b[0m\u001b[0;34m:\u001b[0m \u001b[0mnp\u001b[0m\u001b[0;34m.\u001b[0m\u001b[0marray\u001b[0m\u001b[0;34m(\u001b[0m\u001b[0;34m[\u001b[0m\u001b[0ml\u001b[0m \u001b[0;32mfor\u001b[0m \u001b[0ml\u001b[0m \u001b[0;32min\u001b[0m \u001b[0mget_iter_log\u001b[0m\u001b[0;34m(\u001b[0m\u001b[0mi\u001b[0m\u001b[0;34m,\u001b[0m \u001b[0;34m'game1_episode_lengths'\u001b[0m\u001b[0;34m)\u001b[0m\u001b[0;34m]\u001b[0m\u001b[0;34m)\u001b[0m\u001b[0;34m.\u001b[0m\u001b[0mflatten\u001b[0m\u001b[0;34m(\u001b[0m\u001b[0;34m)\u001b[0m\u001b[0;34m,\u001b[0m\u001b[0;34m\u001b[0m\u001b[0m\n\u001b[1;32m     12\u001b[0m     }\n",
      "\u001b[0;32m<ipython-input-4-c396452517f8>\u001b[0m in \u001b[0;36mget_iter_log\u001b[0;34m(iteration, pickle_file)\u001b[0m\n\u001b[1;32m     19\u001b[0m \u001b[0;32mdef\u001b[0m \u001b[0mget_iter_log\u001b[0m\u001b[0;34m(\u001b[0m\u001b[0miteration\u001b[0m\u001b[0;34m,\u001b[0m \u001b[0mpickle_file\u001b[0m\u001b[0;34m)\u001b[0m\u001b[0;34m:\u001b[0m\u001b[0;34m\u001b[0m\u001b[0m\n\u001b[1;32m     20\u001b[0m     \u001b[0mfilename\u001b[0m \u001b[0;34m=\u001b[0m \u001b[0mlogdir\u001b[0m \u001b[0;34m/\u001b[0m \u001b[0;34m\"{:04d}-{}.pkl\"\u001b[0m\u001b[0;34m.\u001b[0m\u001b[0mformat\u001b[0m\u001b[0;34m(\u001b[0m\u001b[0miteration\u001b[0m\u001b[0;34m,\u001b[0m \u001b[0mpickle_file\u001b[0m\u001b[0;34m)\u001b[0m\u001b[0;34m\u001b[0m\u001b[0m\n\u001b[0;32m---> 21\u001b[0;31m     \u001b[0;32mwith\u001b[0m \u001b[0mopen\u001b[0m\u001b[0;34m(\u001b[0m\u001b[0mstr\u001b[0m\u001b[0;34m(\u001b[0m\u001b[0mfilename\u001b[0m\u001b[0;34m)\u001b[0m\u001b[0;34m,\u001b[0m \u001b[0;34m'rb'\u001b[0m\u001b[0;34m)\u001b[0m \u001b[0;32mas\u001b[0m \u001b[0mf\u001b[0m\u001b[0;34m:\u001b[0m\u001b[0;34m\u001b[0m\u001b[0m\n\u001b[0m\u001b[1;32m     22\u001b[0m         \u001b[0;32mreturn\u001b[0m \u001b[0mpickle\u001b[0m\u001b[0;34m.\u001b[0m\u001b[0mload\u001b[0m\u001b[0;34m(\u001b[0m\u001b[0mf\u001b[0m\u001b[0;34m)\u001b[0m\u001b[0;34m\u001b[0m\u001b[0m\n\u001b[1;32m     23\u001b[0m \u001b[0;34m\u001b[0m\u001b[0m\n",
      "\u001b[0;31mFileNotFoundError\u001b[0m: [Errno 2] No such file or directory: '/home/mt/repos/research.mtne/gpu_implementation/logs/mtes_20190527_154110/0000-game0_episode_lengths.pkl'"
     ]
    }
   ],
   "source": [
    "eplens_df = pd.DataFrame(columns=[\n",
    "    'game0_episode_lengths',\n",
    "    'game1_episode_lengths', \n",
    "    'iteration'\n",
    "])\n",
    "\n",
    "for i in range(last_iteration):\n",
    "#     print(\"Loading iteration {}\".format(i))\n",
    "    df = {\n",
    "        'game0_episode_lengths': np.array([l for l in get_iter_log(i, 'game0_episode_lengths')]).flatten(),\n",
    "        'game1_episode_lengths': np.array([l for l in get_iter_log(i, 'game1_episode_lengths')]).flatten(),\n",
    "    }\n",
    "    df['iteration'] = [i] * df['game0_episode_lengths'].shape[0]\n",
    "    edf = pd.DataFrame.from_dict(df)\n",
    "    eplens_df = pd.concat([eplens_df, edf], sort=True)\n",
    "print(\"Last iteration: {}\".format(max(iterations)))\n",
    "m = pd.melt(eplens_df, id_vars=['iteration'], value_vars=['game0_episode_lengths', 'game1_episode_lengths'])\n",
    "m['value'] = m['value'].astype('float32')\n",
    "m['variable'] = m['variable'].astype('category')\n",
    "m = m.query('iteration >= 0')\n",
    "sns.set(rc={'figure.figsize':(20, 20)})\n",
    "sns.boxplot(x='iteration', y='value', hue='variable', data=m)"
   ]
  },
  {
   "cell_type": "code",
   "execution_count": null,
   "metadata": {
    "papermill": {
     "duration": null,
     "end_time": null,
     "exception": null,
     "start_time": null,
     "status": "pending"
    },
    "tags": []
   },
   "outputs": [],
   "source": [
    "reward_eplen = pd.DataFrame(columns=['eplen', 'reward', 'iteration'])\n",
    "for i in range(last_iteration):\n",
    "    df = {\n",
    "        'eplen': np.array(get_iter_log(i, 'game0_episode_lengths')).flatten(),\n",
    "        'reward': np.array(get_iter_log(i, 'game0_rewards')).flatten()\n",
    "    }\n",
    "    edf0 = pd.DataFrame.from_dict(df)\n",
    "    edf0['game'] = [0] * edf0['eplen'].shape[0]\n",
    "    edf0['iteration'] = [i] * edf0['eplen'].shape[0]\n",
    "\n",
    "    df = {\n",
    "        'eplen': np.array(get_iter_log(i, 'game1_episode_lengths')).flatten(),\n",
    "        'reward': np.array(get_iter_log(i, 'game1_rewards')).flatten()\n",
    "    }\n",
    "    edf1 = pd.DataFrame.from_dict(df)\n",
    "    edf1['game'] = [1] * edf1['eplen'].shape[0]\n",
    "    edf1['iteration'] = [float(i)] * edf1['eplen'].shape[0]\n",
    "\n",
    "    reward_eplen = pd.concat([reward_eplen, edf0, edf1], sort=True)"
   ]
  },
  {
   "cell_type": "code",
   "execution_count": null,
   "metadata": {
    "papermill": {
     "duration": null,
     "end_time": null,
     "exception": null,
     "start_time": null,
     "status": "pending"
    },
    "tags": []
   },
   "outputs": [],
   "source": [
    "sns.set(rc={'figure.figsize':(20, 10)})\n",
    "sns.scatterplot(x='eplen', y='reward', hue='iteration', data=reward_eplen.query('game == 0')).set(title='Game 0 episode length vs reward')"
   ]
  },
  {
   "cell_type": "code",
   "execution_count": null,
   "metadata": {
    "papermill": {
     "duration": null,
     "end_time": null,
     "exception": null,
     "start_time": null,
     "status": "pending"
    },
    "tags": []
   },
   "outputs": [],
   "source": [
    "sns.set(rc={'figure.figsize':(20, 10)})\n",
    "sns.scatterplot(x='eplen', y='reward', hue='iteration', data=reward_eplen.query('game == 1')).set(title='Game 1 episode length vs reward')"
   ]
  },
  {
   "cell_type": "code",
   "execution_count": null,
   "metadata": {
    "papermill": {
     "duration": null,
     "end_time": null,
     "exception": null,
     "start_time": null,
     "status": "pending"
    },
    "tags": []
   },
   "outputs": [],
   "source": [
    "# thetas = pd.DataFrame(columns=['iteration', 'theta'])\n",
    "# for iteration in iterations:\n",
    "#     print(\"Loading iteration {}\".format(iteration))\n",
    "#     thetas = pd.concat(\n",
    "#         [thetas,\n",
    "#          pd.DataFrame.from_dict({\n",
    "#              'iteration': [iteration] * 1008450,\n",
    "#              'theta': np.array(get_iter_log(iteration, 'state').theta)\n",
    "#          })\n",
    "#         ]\n",
    "#     )"
   ]
  },
  {
   "cell_type": "code",
   "execution_count": null,
   "metadata": {
    "papermill": {
     "duration": null,
     "end_time": null,
     "exception": null,
     "start_time": null,
     "status": "pending"
    },
    "tags": []
   },
   "outputs": [],
   "source": [
    "# %time\n",
    "# theta_deltas = []\n",
    "# for ti in iterations[1:]:\n",
    "#     print(\"Calculating {}\".format(ti))\n",
    "#     tc = thetas[thetas['iteration'] == ti]['theta'].values\n",
    "#     tp = thetas[thetas['iteration'] == ti-1]['theta'].values\n",
    "#     td = np.linalg.norm(tc - tp)\n",
    "#     theta_deltas.append(td)"
   ]
  },
  {
   "cell_type": "code",
   "execution_count": null,
   "metadata": {
    "papermill": {
     "duration": null,
     "end_time": null,
     "exception": null,
     "start_time": null,
     "status": "pending"
    },
    "tags": []
   },
   "outputs": [],
   "source": [
    "# pd.DataFrame(theta_deltas).plot()"
   ]
  },
  {
   "cell_type": "code",
   "execution_count": null,
   "metadata": {
    "papermill": {
     "duration": null,
     "end_time": null,
     "exception": null,
     "start_time": null,
     "status": "pending"
    },
    "tags": []
   },
   "outputs": [],
   "source": [
    "# %time\n",
    "# theta_deltas_from0 = []\n",
    "# t0 = thetas[thetas['iteration'] == 0]['theta'].values\n",
    "# for ti in iterations[1:-1]:\n",
    "#     print(\"Calculating {}\".format(ti))\n",
    "#     tc = thetas[thetas['iteration'] == ti]['theta'].values\n",
    "#     td = np.linalg.norm(tc - t0)\n",
    "#     theta_deltas_from0.append(td)"
   ]
  },
  {
   "cell_type": "code",
   "execution_count": null,
   "metadata": {
    "papermill": {
     "duration": null,
     "end_time": null,
     "exception": null,
     "start_time": null,
     "status": "pending"
    },
    "tags": []
   },
   "outputs": [],
   "source": [
    "# pd.DataFrame(theta_deltas).plot()"
   ]
  },
  {
   "cell_type": "code",
   "execution_count": null,
   "metadata": {
    "papermill": {
     "duration": null,
     "end_time": null,
     "exception": null,
     "start_time": null,
     "status": "pending"
    },
    "tags": []
   },
   "outputs": [],
   "source": [
    "# sns.set(rc={'figure.figsize':(20, 10)})\n",
    "# pd.DataFrame(theta_deltas_from0).plot()"
   ]
  },
  {
   "cell_type": "code",
   "execution_count": null,
   "metadata": {
    "papermill": {
     "duration": null,
     "end_time": null,
     "exception": null,
     "start_time": null,
     "status": "pending"
    },
    "tags": []
   },
   "outputs": [],
   "source": [
    "# ms = pd.DataFrame(columns=['iteration', 'game0_mean', 'game0_std', 'game1_mean', 'game1_std'])\n",
    "# for iteration in iterations:\n",
    "#     game0_rewards = np.array(get_iter_log(iteration, 'game0_rewards'))\n",
    "#     game1_rewards = np.array(get_iter_log(iteration, 'game1_rewards'))\n",
    "    \n",
    "#     game0_centered_ranks = compute_centered_ranks(game0_rewards)\n",
    "#     game1_centered_ranks = compute_centered_ranks(game1_rewards)\n",
    "    \n",
    "#     game0_centered = np.abs(game0_centered_ranks[:, 0] - game0_centered_ranks[:, 1])\n",
    "#     game1_centered = np.abs(game1_centered_ranks[:, 0] - game1_centered_ranks[:, 1])\n",
    "    \n",
    "#     game0_centered_top = np.sort(game0_centered)[-10:]\n",
    "#     game1_centered_top = np.sort(game1_centered)[-10:]\n",
    "    \n",
    "    \n",
    "#     m0, s0 = game0_centered_top.mean(), game0_centered_top.std()\n",
    "#     m1, s1 = game1_centered_top.mean(), game1_centered_top.std()\n",
    "#     d = {'iteration': iteration, 'game0_mean': [m0], 'game0_std': [s0], 'game1_mean': [m1], 'game1_std': [s1]}\n",
    "#     ms = pd.concat([ms, pd.DataFrame.from_dict(d)], sort=True)\n",
    "# sns.set(rc={'figure.figsize':(20, 10)})\n",
    "# ms.set_index('iteration').plot()"
   ]
  },
  {
   "cell_type": "code",
   "execution_count": null,
   "metadata": {
    "papermill": {
     "duration": null,
     "end_time": null,
     "exception": null,
     "start_time": null,
     "status": "pending"
    },
    "tags": []
   },
   "outputs": [],
   "source": []
  }
 ],
 "metadata": {
  "kernelspec": {
   "display_name": "Python 3",
   "language": "python",
   "name": "python3"
  },
  "language_info": {
   "codemirror_mode": {
    "name": "ipython",
    "version": 3
   },
   "file_extension": ".py",
   "mimetype": "text/x-python",
   "name": "python",
   "nbconvert_exporter": "python",
   "pygments_lexer": "ipython3",
   "version": "3.5.2"
  },
  "papermill": {
   "duration": 5.558288,
   "end_time": "2019-08-06T22:00:36.368099",
   "environment_variables": {},
   "exception": true,
   "input_path": "charts.ipynb",
   "output_path": "mtes_20190527_154110.ipynb",
   "parameters": {
    "log_session": "mtes_20190527_154110"
   },
   "start_time": "2019-08-06T22:00:30.809811",
   "version": "1.0.1"
  }
 },
 "nbformat": 4,
 "nbformat_minor": 2
}