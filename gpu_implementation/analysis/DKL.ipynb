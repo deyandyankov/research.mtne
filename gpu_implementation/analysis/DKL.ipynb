{
 "cells": [
  {
   "cell_type": "code",
   "execution_count": 268,
   "metadata": {},
   "outputs": [
    {
     "name": "stdout",
     "output_type": "stream",
     "text": [
      "The autoreload extension is already loaded. To reload it, use:\n",
      "  %reload_ext autoreload\n"
     ]
    }
   ],
   "source": [
    "%load_ext autoreload\n",
    "%autoreload 2\n",
    "import sys\n",
    "import pickle\n",
    "from pathlib import Path\n",
    "gpu_implementation_path = '/home/mt/repos/research.mtne/gpu_implementation'\n",
    "if gpu_implementation_path not in sys.path:\n",
    "    sys.path.append(gpu_implementation_path)\n",
    "gpu_implementation_analysis_path = '/home/mt/repos/research.mtne/gpu_implementation/analysis'\n",
    "if gpu_implementation_analysis_path not in sys.path:\n",
    "    sys.path.append(gpu_implementation_analysis_path)\n",
    "import numpy as np\n",
    "import pandas as pd\n",
    "import seaborn as sns\n",
    "%matplotlib inline\n",
    "import matplotlib.pyplot as plt\n",
    "import utils\n",
    "from metrics import *\n",
    "\n",
    "# from esmt import TrainingState\n",
    "\n",
    "main_log_dir = Path(gpu_implementation_path) / \"logs\""
   ]
  },
  {
   "cell_type": "code",
   "execution_count": 269,
   "metadata": {},
   "outputs": [],
   "source": [
    "experiments = {\n",
    "    'ST-zaxxon': {'dir': main_log_dir / 'ST-zaxxon-5000', 'type': 'ST'},\n",
    "    'ST-riverraid': {'dir': main_log_dir / 'ST-riverraid-5000', 'type': 'ST'},\n",
    "    'MT': {'dir': main_log_dir / 'MT-zaxxon-riverraid-5000', 'type': 'MT' },\n",
    "    'ST-riverraid-zaxxon': {'dir': main_log_dir / 'evaluate_riverraid_using_zaxxon_model', 'type': 'ST'},\n",
    "    'ST-zaxxon-riverraid': {'dir': main_log_dir / 'evaluate_zaxxon_using_riverraid_model', 'type': 'ST'},\n",
    "    \n",
    "}"
   ]
  },
  {
   "cell_type": "code",
   "execution_count": 270,
   "metadata": {
    "tags": [
     "parameters"
    ]
   },
   "outputs": [
    {
     "name": "stdout",
     "output_type": "stream",
     "text": [
      "/home/mt/repos/research.mtne/gpu_implementation/logs/ST-riverraid-5000\n",
      "/home/mt/repos/research.mtne/gpu_implementation/logs/evaluate_riverraid_using_zaxxon_model\n",
      "/home/mt/repos/research.mtne/gpu_implementation/logs/MT-zaxxon-riverraid-5000\n",
      "/home/mt/repos/research.mtne/gpu_implementation/logs/evaluate_zaxxon_using_riverraid_model\n",
      "/home/mt/repos/research.mtne/gpu_implementation/logs/ST-zaxxon-5000\n"
     ]
    }
   ],
   "source": [
    "for exp_name, exp in experiments.items():\n",
    "    exp['cfg'] = utils.get_config(exp)\n",
    "    exp['rewards'] = utils.get_rewards(exp)"
   ]
  },
  {
   "cell_type": "code",
   "execution_count": 271,
   "metadata": {},
   "outputs": [
    {
     "data": {
      "text/html": [
       "<div>\n",
       "<style scoped>\n",
       "    .dataframe tbody tr th:only-of-type {\n",
       "        vertical-align: middle;\n",
       "    }\n",
       "\n",
       "    .dataframe tbody tr th {\n",
       "        vertical-align: top;\n",
       "    }\n",
       "\n",
       "    .dataframe thead th {\n",
       "        text-align: right;\n",
       "    }\n",
       "</style>\n",
       "<table border=\"1\" class=\"dataframe\">\n",
       "  <thead>\n",
       "    <tr style=\"text-align: right;\">\n",
       "      <th></th>\n",
       "      <th>ST-riverraid_rewards</th>\n",
       "      <th>ST-riverraid_elite</th>\n",
       "    </tr>\n",
       "    <tr>\n",
       "      <th>iteration</th>\n",
       "      <th></th>\n",
       "      <th></th>\n",
       "    </tr>\n",
       "  </thead>\n",
       "  <tbody>\n",
       "    <tr>\n",
       "      <th>0</th>\n",
       "      <td>1114.114014</td>\n",
       "      <td>960.849976</td>\n",
       "    </tr>\n",
       "    <tr>\n",
       "      <th>1</th>\n",
       "      <td>988.072021</td>\n",
       "      <td>744.299988</td>\n",
       "    </tr>\n",
       "    <tr>\n",
       "      <th>2</th>\n",
       "      <td>1198.521973</td>\n",
       "      <td>1469.449951</td>\n",
       "    </tr>\n",
       "    <tr>\n",
       "      <th>3</th>\n",
       "      <td>1205.734009</td>\n",
       "      <td>1379.099976</td>\n",
       "    </tr>\n",
       "    <tr>\n",
       "      <th>4</th>\n",
       "      <td>1234.540039</td>\n",
       "      <td>1848.800049</td>\n",
       "    </tr>\n",
       "  </tbody>\n",
       "</table>\n",
       "</div>"
      ],
      "text/plain": [
       "           ST-riverraid_rewards  ST-riverraid_elite\n",
       "iteration                                          \n",
       "0                   1114.114014          960.849976\n",
       "1                    988.072021          744.299988\n",
       "2                   1198.521973         1469.449951\n",
       "3                   1205.734009         1379.099976\n",
       "4                   1234.540039         1848.800049"
      ]
     },
     "execution_count": 271,
     "metadata": {},
     "output_type": "execute_result"
    }
   ],
   "source": [
    "experiments['ST-riverraid-zaxxon']['rewards'].head()"
   ]
  },
  {
   "cell_type": "code",
   "execution_count": 273,
   "metadata": {},
   "outputs": [],
   "source": [
    "cfg = experiments['MT']\n",
    "game_idx = 0\n",
    "iterations = range(1, 200)\n",
    "bin_size = 100\n",
    "epsilon = 0.0001\n",
    "dkl_game_idx0 = pd.DataFrame.from_dict({\n",
    "    'dkl': [utils.compute_dkl(cfg, game_idx, i, bin_size, epsilon) for i in iterations]\n",
    "})"
   ]
  },
  {
   "cell_type": "code",
   "execution_count": 274,
   "metadata": {},
   "outputs": [],
   "source": [
    "cfg = experiments['MT']\n",
    "game_idx = 1\n",
    "iterations = range(1, 200)\n",
    "bin_size = 100\n",
    "epsilon = 0.0001\n",
    "dkl_game_idx1 = pd.DataFrame.from_dict({\n",
    "    'dkl': [utils.compute_dkl(cfg, game_idx, i, bin_size, epsilon) for i in iterations]\n",
    "})"
   ]
  },
  {
   "cell_type": "code",
   "execution_count": 275,
   "metadata": {},
   "outputs": [],
   "source": [
    "cfg = experiments['ST-riverraid-zaxxon']\n",
    "game_idx = 0\n",
    "iterations = range(1, 200)\n",
    "bin_size = 100\n",
    "epsilon = 0.0001\n",
    "st_riverraid_zaxxon = pd.DataFrame.from_dict({\n",
    "    'dkl': [utils.compute_dkl(cfg, game_idx, i, bin_size, epsilon) for i in iterations]\n",
    "})"
   ]
  },
  {
   "cell_type": "code",
   "execution_count": 276,
   "metadata": {},
   "outputs": [],
   "source": [
    "cfg = experiments['ST-zaxxon']\n",
    "game_idx = 0\n",
    "iterations = range(1, 200)\n",
    "bin_size = 100\n",
    "epsilon = 0.0001\n",
    "st_zaxxon = pd.DataFrame.from_dict({\n",
    "    'dkl': [utils.compute_dkl(cfg, game_idx, i, bin_size, epsilon) for i in iterations]\n",
    "})"
   ]
  },
  {
   "cell_type": "code",
   "execution_count": 277,
   "metadata": {},
   "outputs": [],
   "source": [
    "dkl = pd.DataFrame.from_dict({\n",
    "    'dkl_game0': dkl_game_idx0.dkl,\n",
    "#    'dkl_game1': dkl_game_idx1.dkl,\n",
    "    'dkl_st_zaxxon': st_zaxxon.dkl,\n",
    "    'dkl_st_riverraid_zaxxon': st_riverraid_zaxxon.dkl\n",
    "})"
   ]
  },
  {
   "cell_type": "code",
   "execution_count": 278,
   "metadata": {},
   "outputs": [
    {
     "data": {
      "text/plain": [
       "<matplotlib.axes._subplots.AxesSubplot at 0x7fe1a46dfac8>"
      ]
     },
     "execution_count": 278,
     "metadata": {},
     "output_type": "execute_result"
    },
    {
     "data": {
      "image/png": "[encoded data removed]",
      "text/plain": [
       "<Figure size 720x360 with 1 Axes>"
      ]
     },
     "metadata": {},
     "output_type": "display_data"
    }
   ],
   "source": [
    "sns.set(rc={'figure.figsize': (10, 5)})\n",
    "dkl.plot()"
   ]
  },
  {
   "cell_type": "code",
   "execution_count": null,
   "metadata": {},
   "outputs": [],
   "source": []
  }
 ],
 "metadata": {
  "kernelspec": {
   "display_name": "Python 3",
   "language": "python",
   "name": "python3"
  },
  "language_info": {
   "codemirror_mode": {
    "name": "ipython",
    "version": 3
   },
   "file_extension": ".py",
   "mimetype": "text/x-python",
   "name": "python",
   "nbconvert_exporter": "python",
   "pygments_lexer": "ipython3",
   "version": "3.5.2"
  }
 },
 "nbformat": 4,
 "nbformat_minor": 2
}
